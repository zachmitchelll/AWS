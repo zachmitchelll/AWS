{
 "cells": [
  {
   "cell_type": "code",
   "execution_count": 2,
   "id": "f1253571",
   "metadata": {},
   "outputs": [],
   "source": [
    "# import libraries\n",
    "\n",
    "from bs4 import BeautifulSoup\n",
    "import requests\n",
    "import time\n",
    "import datetime\n",
    "\n",
    "import smtplib"
   ]
  },
  {
   "cell_type": "code",
   "execution_count": 13,
   "id": "e5cee6cd",
   "metadata": {},
   "outputs": [
    {
     "name": "stdout",
     "output_type": "stream",
     "text": [
      "\n",
      "            EVGA GeForce RTX 3080 Ti XC3 Ultra Gaming, 12G-P5-3955-KR, 12GB GDDR6X, iCX3 Cooling, ARGB LED, Metal Backplate\n",
      "           \n",
      "1,549\n",
      "                              \n",
      "                               .\n"
     ]
    }
   ],
   "source": [
    "# connect to the website\n",
    "\n",
    "URL = 'https://www.amazon.com/EVGA-GeForce-12G-P5-3955-KR-Cooling-Backplate/dp/B0979GYMHP/ref=sr_1_4?crid=17304WZ47SU5U&keywords=3080+ti&qid=1681084164&sprefix=3080%2Caps%2C93&sr=8-4'\n",
    "\n",
    "headers = {\"User-Agent\": \"Mozilla/5.0 (Windows NT 10.0; Win64; x64) AppleWebKit/537.36 (KHTML, like Gecko) Chrome/111.0.0.0 Safari/537.36\", \"Accept-Encoding\":\"gzip, deflate\", \"Accept\":\"text/html,application/xhtml+xml,application/xml;q=0.9,*/*;q=0.8\", \"DNT\":\"1\",\"Connection\":\"close\", \"Upgrade-Insecure-Requests\":\"1\"}\n",
    "\n",
    "page = requests.get(URL, headers=headers)\n",
    "\n",
    "soup1 = BeautifulSoup(page.content, \"html.parser\")\n",
    "\n",
    "soup2 = BeautifulSoup(soup1.prettify(), \"html.parser\")\n",
    "\n",
    "title = soup2.find(id='productTitle').get_text()\n",
    "\n",
    "price = soup2.find(\"span\", attrs={'class':'a-price-whole'}).text.strip()\n",
    "\n",
    "print(title)\n",
    "print(price)\n",
    "\n"
   ]
  },
  {
   "cell_type": "code",
   "execution_count": 14,
   "id": "5b5c6042",
   "metadata": {},
   "outputs": [
    {
     "name": "stdout",
     "output_type": "stream",
     "text": [
      "EVGA GeForce RTX 3080 Ti XC3 Ultra Gaming, 12G-P5-3955-KR, 12GB GDDR6X, iCX3 Cooling, ARGB LED, Metal Backplate\n",
      "1,549\n",
      "                              \n",
      "                               .\n"
     ]
    }
   ],
   "source": [
    "#cleaning up the data\n",
    "\n",
    "price = price.strip()\n",
    "title = title.strip()\n",
    "\n",
    "print(title)\n",
    "print(price)\n"
   ]
  },
  {
   "cell_type": "code",
   "execution_count": 17,
   "id": "4bd9cba3",
   "metadata": {},
   "outputs": [
    {
     "name": "stdout",
     "output_type": "stream",
     "text": [
      "2023-04-10\n"
     ]
    }
   ],
   "source": [
    "import datetime\n",
    "\n",
    "today = datetime.date.today()\n",
    "\n",
    "print(today)\n"
   ]
  },
  {
   "cell_type": "code",
   "execution_count": 18,
   "id": "a0d20fda",
   "metadata": {},
   "outputs": [],
   "source": [
    "#Creating a CSV, wrting the headers and data into the file\n",
    "\n",
    "import csv\n",
    "\n",
    "header = ['Title', 'Price', 'Date']\n",
    "data = [title, price, today]\n",
    "\n",
    "#with open('EVGAGeForceData.csv', 'w', newline='', encoding='UTF8') as f:\n",
    "    #writer = csv.writer(f)\n",
    "    #writer.writerow(header)\n",
    "    #writer.writerow(data)\n",
    "    \n"
   ]
  },
  {
   "cell_type": "code",
   "execution_count": 22,
   "id": "31989895",
   "metadata": {},
   "outputs": [
    {
     "name": "stdout",
     "output_type": "stream",
     "text": [
      "                                               Title  \\\n",
      "0  EVGA GeForce RTX 3080 Ti XC3 Ultra Gaming, 12G...   \n",
      "\n",
      "                                               Price       Date  \n",
      "0  1,549\\n                              \\n       ...  4/10/2023  \n"
     ]
    }
   ],
   "source": [
    "import pandas as pd\n",
    "\n",
    "df = pd.read_csv(r'C:\\Users\\zjmit\\OneDrive\\Documents\\DataProjects\\PythonAmazonWebscraping\\EVGAGeForceData.csv')\n",
    "                 \n",
    "print(df)"
   ]
  },
  {
   "cell_type": "code",
   "execution_count": 23,
   "id": "a9285568",
   "metadata": {},
   "outputs": [],
   "source": [
    "#Appending the data to the CSV\n",
    "\n",
    "with open('EVGAGeForceData.csv', 'w', newline='', encoding='UTF8') as f:\n",
    "    writer = csv.writer(f)\n",
    "    writer.writerow(data)\n"
   ]
  },
  {
   "cell_type": "code",
   "execution_count": null,
   "id": "54160bb6",
   "metadata": {},
   "outputs": [],
   "source": [
    "#Combining all of the code above\n",
    "\n",
    "def check_price():\n",
    "    URL = 'https://www.amazon.com/EVGA-GeForce-12G-P5-3955-KR-Cooling-Backplate/dp/B0979GYMHP/ref=sr_1_4?crid=17304WZ47SU5U&keywords=3080+ti&qid=1681084164&sprefix=3080%2Caps%2C93&sr=8-4'\n",
    "\n",
    "    headers = {\"User-Agent\": \"Mozilla/5.0 (Windows NT 10.0; Win64; x64) AppleWebKit/537.36 (KHTML, like Gecko) Chrome/111.0.0.0 Safari/537.36\", \"Accept-Encoding\":\"gzip, deflate\", \"Accept\":\"text/html,application/xhtml+xml,application/xml;q=0.9,*/*;q=0.8\", \"DNT\":\"1\",\"Connection\":\"close\", \"Upgrade-Insecure-Requests\":\"1\"}\n",
    "\n",
    "    page = requests.get(URL, headers=headers)\n",
    "\n",
    "    soup1 = BeautifulSoup(page.content, \"html.parser\")\n",
    "\n",
    "    soup2 = BeautifulSoup(soup1.prettify(), \"html.parser\")\n",
    "\n",
    "    title = soup2.find(id='productTitle').get_text()\n",
    "\n",
    "    price = soup2.find(\"span\", attrs={'class':'a-price-whole'}).text.strip()\n",
    "    \n",
    "    price = price.strip()\n",
    "    title = title.strip()\n",
    "    \n",
    "    import datetime\n",
    "\n",
    "    today = datetime.date.today()\n",
    "    \n",
    "    import csv\n",
    "\n",
    "    header = ['Title', 'Price', 'Date']\n",
    "    data = [title, price, today]\n",
    "    \n",
    "    with open('EVGAGeForceData.csv', 'w', newline='', encoding='UTF8') as f:\n",
    "        writer = csv.writer(f)\n",
    "        writer.writerow(data)"
   ]
  },
  {
   "cell_type": "code",
   "execution_count": null,
   "id": "4acb1d42",
   "metadata": {},
   "outputs": [],
   "source": [
    "#Runs check_price after 24hrs and inputs the data into the CSV\n",
    "\n",
    "while(True):\n",
    "    check_price()\n",
    "    time.sleep(86400)"
   ]
  },
  {
   "cell_type": "code",
   "execution_count": null,
   "id": "4fd24920",
   "metadata": {},
   "outputs": [],
   "source": [
    "import pandas as pd\n",
    "\n",
    "df = pd.read_csv(r'C:\\Users\\zjmit\\OneDrive\\Documents\\DataProjects\\PythonAmazonWebscraping\\EVGAGeForceData.csv')\n",
    "                 \n",
    "print(df)\n",
    "\n"
   ]
  }
 ],
 "metadata": {
  "kernelspec": {
   "display_name": "Python 3 (ipykernel)",
   "language": "python",
   "name": "python3"
  },
  "language_info": {
   "codemirror_mode": {
    "name": "ipython",
    "version": 3
   },
   "file_extension": ".py",
   "mimetype": "text/x-python",
   "name": "python",
   "nbconvert_exporter": "python",
   "pygments_lexer": "ipython3",
   "version": "3.10.9"
  }
 },
 "nbformat": 4,
 "nbformat_minor": 5
}
